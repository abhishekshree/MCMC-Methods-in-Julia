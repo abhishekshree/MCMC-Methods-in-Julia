{
 "cells": [
  {
   "cell_type": "code",
   "execution_count": 1,
   "id": "2a100b45",
   "metadata": {},
   "outputs": [
    {
     "data": {
      "text/plain": [
       "TaskLocalRNG()"
      ]
     },
     "execution_count": 1,
     "metadata": {},
     "output_type": "execute_result"
    }
   ],
   "source": [
    "using Distributions, Random, Plots, SpecialFunctions\n",
    "Random.seed!(42)"
   ]
  },
  {
   "cell_type": "markdown",
   "id": "c8b73ae8",
   "metadata": {},
   "source": [
    "## Problem 1"
   ]
  },
  {
   "cell_type": "markdown",
   "id": "125488ac",
   "metadata": {},
   "source": [
    "For a large sample, given $Var(F) = \\sigma^2$\n",
    "\n",
    "In case of i.i.d draws, $Var(\\bar{X}) = \\frac{\\sigma^2}{n}$\n",
    "\n",
    "In case of a Markov chain with F as the stationary distribution [Reference, pg.1](https://arxiv.org/pdf/math/0409112.pdf)\n",
    "\n",
    "$Var(\\bar{Y}) = \\frac{\\sigma^2}{n} + 2 \\sum_{i=1} cov_F(Y_1, Y_1+i)$"
   ]
  },
  {
   "cell_type": "markdown",
   "id": "3d07b2b4",
   "metadata": {},
   "source": [
    "$\\because$ The covariance term can be any real number, we cannot say if the which estimator has a larger variance."
   ]
  },
  {
   "cell_type": "markdown",
   "id": "a81f3dcf",
   "metadata": {},
   "source": [
    "## Problem 2"
   ]
  },
  {
   "cell_type": "markdown",
   "id": "7a6a10fd",
   "metadata": {},
   "source": [
    "a. The joint posterior distribution is \n",
    "\n",
    "$$q \\propto \\prod_{i} \\frac{1}{\\sqrt{2\\pi}} e^{\\frac{-(y_i-\\mu)^2}{2}} \\frac{1}{\\sqrt{\\nu\\pi}} \\frac{\\Gamma(\\frac{\\nu+1}{2})}{\\Gamma(\\frac{\\nu}{2})} (1 + \\frac{\\mu^2}{\\nu})^{\\frac{-\\nu + 1}{2}} \\frac{\\nu^{a_o-1}e^{-b_o\\nu}{b_o}^{a_o}}{\\Gamma(a_o)} \\text{ for } 2 \\le \\nu \\le \\infty$$"
   ]
  },
  {
   "cell_type": "code",
   "execution_count": 2,
   "id": "8a2820b3",
   "metadata": {},
   "outputs": [
    {
     "data": {
      "text/plain": [
       "generate (generic function with 1 method)"
      ]
     },
     "execution_count": 2,
     "metadata": {},
     "output_type": "execute_result"
    }
   ],
   "source": [
    "function generate(a, b, n)\n",
    "    N = rand(Truncated(Gamma(a, b),2, Inf), n)\n",
    "    M = rand(Normal(rand(TDist(mean(N))), 1), n)\n",
    "    return N, M\n",
    "end"
   ]
  },
  {
   "cell_type": "code",
   "execution_count": 3,
   "id": "67aaa0db",
   "metadata": {},
   "outputs": [
    {
     "data": {
      "text/plain": [
       "q_tilde (generic function with 1 method)"
      ]
     },
     "execution_count": 3,
     "metadata": {},
     "output_type": "execute_result"
    }
   ],
   "source": [
    "function q_tilde(a_o, b_o, n, μ, ν, y)\n",
    "    if (ν < 2) \n",
    "        return 0\n",
    "    end\n",
    "    x = (1+μ^2/ν)^((-ν+1)/2)*ν^(a_o-1)ℯ^(-b_o*ν) * gamma((ν+1)/2)/gamma(ν/2)\n",
    "    for i in 1:n\n",
    "        x = x * ℯ^(-((y[i]-μ)/2))\n",
    "    end\n",
    "    return x\n",
    "end"
   ]
  },
  {
   "cell_type": "code",
   "execution_count": 4,
   "id": "d72db6a8",
   "metadata": {},
   "outputs": [],
   "source": [
    "a_o = 2\n",
    "b_o = 0.1\n",
    "n = 100\n",
    "s = 10000\n",
    "N,M = generate(a_o, b_o, s)\n",
    "Y = rand(Normal(mean(N), 1), n);"
   ]
  },
  {
   "cell_type": "code",
   "execution_count": 5,
   "id": "febc270d",
   "metadata": {},
   "outputs": [
    {
     "data": {
      "text/plain": [
       "sample (generic function with 1 method)"
      ]
     },
     "execution_count": 5,
     "metadata": {},
     "output_type": "execute_result"
    }
   ],
   "source": [
    "function sample()\n",
    "    Ns = []\n",
    "    append!(Ns, mean(N))\n",
    "    Ms = []\n",
    "    append!(Ms, mean(M))\n",
    "    \n",
    "    for i in 2:s\n",
    "        r = q_tilde(a_o, b_o, n, N[i], M[i], Y)/q_tilde(a_o, b_o, n, N[i-1], M[i-1], Y)\n",
    "        u = rand(Uniform(0,1))\n",
    "        if u < min(1, r)\n",
    "#             append new values\n",
    "            append!(Ns, N[i])\n",
    "            append!(Ms, M[i])\n",
    "        else\n",
    "#             keep the old values\n",
    "            append!(Ns, N[i-1])\n",
    "            append!(Ms, M[i-1])\n",
    "        end\n",
    "    end\n",
    "    return Ns, Ms\n",
    "end"
   ]
  },
  {
   "cell_type": "code",
   "execution_count": 6,
   "id": "ecdfff7c",
   "metadata": {},
   "outputs": [],
   "source": [
    "Ns, Ms = sample();"
   ]
  },
  {
   "cell_type": "code",
   "execution_count": 7,
   "id": "f4a58799",
   "metadata": {},
   "outputs": [
    {
     "data": {
      "text/plain": [
       "2.105575122613332"
      ]
     },
     "execution_count": 7,
     "metadata": {},
     "output_type": "execute_result"
    }
   ],
   "source": [
    "mean(N)"
   ]
  },
  {
   "cell_type": "code",
   "execution_count": 8,
   "id": "e39aa3ed",
   "metadata": {},
   "outputs": [
    {
     "data": {
      "text/plain": [
       "2.1347764312937323"
      ]
     },
     "execution_count": 8,
     "metadata": {},
     "output_type": "execute_result"
    }
   ],
   "source": [
    "mean(Ns)"
   ]
  },
  {
   "cell_type": "code",
   "execution_count": 9,
   "id": "27cff0dc",
   "metadata": {},
   "outputs": [
    {
     "data": {
      "text/plain": [
       "2.6757831142157626"
      ]
     },
     "execution_count": 9,
     "metadata": {},
     "output_type": "execute_result"
    }
   ],
   "source": [
    "mean(M)"
   ]
  },
  {
   "cell_type": "code",
   "execution_count": 10,
   "id": "b588b94a",
   "metadata": {},
   "outputs": [
    {
     "data": {
      "text/plain": [
       "2.995318720309996"
      ]
     },
     "execution_count": 10,
     "metadata": {},
     "output_type": "execute_result"
    }
   ],
   "source": [
    "mean(Ms)"
   ]
  },
  {
   "cell_type": "markdown",
   "id": "65b0c152",
   "metadata": {},
   "source": [
    "The mean values of $\\mu$ and $\\nu$ as in the original case, and after sampling, are close."
   ]
  }
 ],
 "metadata": {
  "kernelspec": {
   "display_name": "Julia 1.7.2",
   "language": "julia",
   "name": "julia-1.7"
  },
  "language_info": {
   "file_extension": ".jl",
   "mimetype": "application/julia",
   "name": "julia",
   "version": "1.7.2"
  }
 },
 "nbformat": 4,
 "nbformat_minor": 5
}
