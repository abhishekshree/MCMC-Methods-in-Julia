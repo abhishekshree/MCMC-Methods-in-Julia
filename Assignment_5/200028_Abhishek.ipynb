{
 "cells": [
  {
   "cell_type": "markdown",
   "id": "10777f83",
   "metadata": {},
   "source": [
    "# Q1."
   ]
  },
  {
   "cell_type": "markdown",
   "id": "c66bfaf9",
   "metadata": {},
   "source": [
    "## Barker’s method and the two-coin algorithm"
   ]
  },
  {
   "cell_type": "markdown",
   "id": "da776a82",
   "metadata": {},
   "source": [
    "Barker introduced a new acceptance probability \n",
    "$$\n",
    "    \\alpha_B (x,y) = \\frac{\\pi(y)q(y,x)}{\\pi(y)q(y,x) + \\pi(x)q(x,y)}\n",
    "$$\n",
    "\n",
    "If for some reason we cannot use MH, Barker's method can be a way out as it is proven to be statistically less efficient, but has an upper bound for the variance in terms of the MH variance.\n",
    "\n",
    "$$\n",
    "var_\\pi (P_{MH}, h) \\le var_\\pi (P_{B}, h) \\le 2 var_\\pi (P_{MH}, h) + var_\\pi (h)\n",
    "$$\n",
    "\n",
    "h being an estimator function.\n",
    "\n",
    "But, when the posterior ($ \\tilde\\pi $ or $\\pi$)  is such that their values cannot be determined precisely (when the likelihood or priors are not known to us), we cannot calculate these acceptance probabilities anymore. "
   ]
  },
  {
   "cell_type": "markdown",
   "id": "ba38ecc7",
   "metadata": {},
   "source": [
    "In such cases, instead of directly calculating the acceptance probability, we can sample it as a bernoulli event as discussed in the paper. A Bernoulli Factory is the algorithm which generates a bernoulli event using some input bernoulli event (by some transformation function).\n",
    "\n",
    "A bound $\\pi(x)q(x,y) \\le c_x$ is obtained so that $\\pi(x)q(x,y) = c_xp_x$ where $p_x$ is a probability, then to find the probability $\\alpha_b$ we evaluate $\\frac{c_xp_x}{c_xp_x + c_yp_y}$\n",
    "\n",
    "The algorithm used for doing so is already proved to work in assignment 2, Q1, which is known as the two-coin algorithm."
   ]
  },
  {
   "cell_type": "markdown",
   "id": "31c1dfdb",
   "metadata": {},
   "source": [
    "## Portkey Barker’s method"
   ]
  },
  {
   "cell_type": "markdown",
   "id": "7acdcc5c",
   "metadata": {},
   "source": [
    "In following the two-coin algorithm, the algorithm gets stuck in a long loop if the value of $p_x$ is small."
   ]
  },
  {
   "cell_type": "markdown",
   "id": "2f3826f3",
   "metadata": {},
   "source": [
    "Hence, the portkey acceptance probability was introduced.\n",
    "$$\n",
    "    \\alpha_P (x,y) = \\frac{\\pi(y)q(y,x)}{\\pi(y)q(y,x) + \\pi(x)q(x,y) + d(x, y)}\n",
    "$$\n",
    "\n",
    "Here d(x,y) is symmetric, hence this acceptance probability yields a $\\pi$- invariant markov chain."
   ]
  },
  {
   "cell_type": "markdown",
   "id": "56ddf4dc",
   "metadata": {},
   "source": [
    "The particular d chosen for this algorithm is\n",
    "$$\n",
    "d(x, y) = \\frac{1-\\beta}{\\beta} (c_x+c_y)\n",
    "$$\n",
    "where $\\beta \\in (0,1]$ and $\\beta = 1$ gives the Barker's acceptance probability.\n",
    "\n",
    "Generally $\\beta \\approx 1$ to remain close to the Barker's algorithm.\n",
    "\n",
    "Then we use portkey two-coin algorithm drawing values from Bern($\\beta$) with the number of loops varying geometic"
   ]
  },
  {
   "cell_type": "markdown",
   "id": "0f9b5875",
   "metadata": {},
   "source": [
    "## Flipped portkey two-coin algorithm"
   ]
  },
  {
   "cell_type": "markdown",
   "id": "265bb8a4",
   "metadata": {},
   "source": [
    "This method is used to get a $\\tilde c_x$ which is some lower bound for the product $\\pi(x)q(x,y)$ for a target density where obtaining a lower bound is easier.\n",
    "\n",
    "$\\alpha_P$ is essesntially divided by $\\pi(x)q(x,y)\\pi(y)q(y,x)$ giving\n",
    "$$\n",
    " \\alpha_F (x,y) = \\frac{(\\pi(y)q(y,x))^{-1}}{(\\pi(y)q(y,x))^{-1} + (\\pi(x)q(x,y))^{-1} + d'(x, y)}\n",
    "$$"
   ]
  },
  {
   "cell_type": "markdown",
   "id": "abe4f579",
   "metadata": {},
   "source": [
    "The function $d'(x,y)$ uses the lower bounds on product $\\pi(x)q(x,y)$ to obtain a value.\n",
    "$$\n",
    "    d'(x,y) = \\frac{1-\\beta}{\\beta} \\frac{(\\tilde c_x+\\tilde c_y)}{\\tilde c_x\\tilde p_x\\tilde c_y\\tilde p_y}\n",
    "$$"
   ]
  },
  {
   "cell_type": "markdown",
   "id": "64fb68c0",
   "metadata": {},
   "source": [
    "A similar portkey two-coin algorithm drawing values from Bern($\\beta$) called, flipped portkey two-coin algorithm."
   ]
  },
  {
   "cell_type": "markdown",
   "id": "b6bfe6f9",
   "metadata": {},
   "source": [
    "NOTE: [This talk](https://www.youtube.com/watch?v=J8edbFTPCdA) helped me understand a lot and is referred here as well."
   ]
  },
  {
   "cell_type": "markdown",
   "id": "65be33a9",
   "metadata": {},
   "source": [
    "---"
   ]
  },
  {
   "cell_type": "markdown",
   "id": "131badb9",
   "metadata": {},
   "source": [
    "# Q2"
   ]
  },
  {
   "cell_type": "code",
   "execution_count": null,
   "id": "c6cff573",
   "metadata": {
    "vscode": {
     "languageId": "plaintext"
    }
   },
   "outputs": [],
   "source": [
    "using Distributions\n",
    "using Random\n",
    "using Plots\n",
    "using BenchmarkTools\n",
    "Random.seed!(42)"
   ]
  },
  {
   "cell_type": "code",
   "execution_count": null,
   "id": "7205cd31",
   "metadata": {},
   "outputs": [],
   "source": [
    "function portkey(prop, curr, beta, pf, cprop, ccurr, k, a1, b1)\n",
    "    x = NaN\n",
    "    loops = 0\n",
    "    C = cprop/(ccurr + cprop)\n",
    "    S = 1\n",
    "\n",
    "    while isnan(x)\n",
    "        loops = loops + 1\n",
    "        if beta != 1\n",
    "            S = rand(Binomial(1, beta))\n",
    "        end\n",
    "        if S == 0\n",
    "            x = curr\n",
    "            return x, loops\n",
    "        else\n",
    "            C1 = rand(Binomial(1, C))\n",
    "            if C1 == 1\n",
    "                p1 = pf(prop, k, a1, b1)\n",
    "                C2 = rand(Binomial(1, p1))\n",
    "                if C2 == 1\n",
    "                    x = prop\n",
    "                    return x, loops\n",
    "                end\n",
    "            else\n",
    "                p2 = pf(curr, k, a1, b1)\n",
    "                C2 = rand(Binomial(1, p2))\n",
    "                if C2 == 1\n",
    "                    x = curr\n",
    "                    return x, loops\n",
    "                end\n",
    "            end\n",
    "        end\n",
    "    end\n",
    "end"
   ]
  },
  {
   "cell_type": "code",
   "execution_count": null,
   "id": "3a35e1cf",
   "metadata": {},
   "outputs": [],
   "source": [
    "function Cf(value, k)\n",
    "    return k/(ℯ*value)\n",
    "end\n",
    "\n",
    "function Weibull(value, k, a)\n",
    "    return (k/a) * (value/a)^(k-1) * exp(-(value/a)^k)\n",
    "end\n",
    "\n",
    "function Pf(value, k, a1, b1)\n",
    "    x = Weibull(value, k, rand(Gamma(a1, b1)))\n",
    "    return x/Cf(value, k)\n",
    "end"
   ]
  },
  {
   "cell_type": "code",
   "execution_count": null,
   "id": "08abeadb",
   "metadata": {},
   "outputs": [],
   "source": [
    "function mcmc(N, beta, k, a1, b1)\n",
    "    out = zeros(N)\n",
    "    loops = zeros(N)\n",
    "    out[1] = .1\n",
    "    \n",
    "    for i in 2:N\n",
    "        prop = rand(Normal(out[i-1], sqrt(.001)))\n",
    "        if prop < 0\n",
    "            out[i] = out[i-1]\n",
    "            next\n",
    "        end\n",
    "        x_val, loops_val = portkey(prop, out[i-1], beta, Pf, Cf(prop, k), Cf(out[i-1], k), k, a1, b1)\n",
    "        out[i] = x_val\n",
    "        loops[i] = loops_val\n",
    "    end\n",
    "    \n",
    "    return out, loops\n",
    "end"
   ]
  },
  {
   "cell_type": "code",
   "execution_count": null,
   "id": "fb0b8ee8",
   "metadata": {},
   "outputs": [],
   "source": [
    "barker_mcmc, barker_loops = mcmc(1000, 1, 10, 10, 100)"
   ]
  },
  {
   "cell_type": "code",
   "execution_count": null,
   "id": "91b9bbea",
   "metadata": {},
   "outputs": [],
   "source": [
    "portkey_mcmc, portkey_loops = mcmc(1000, .99, 10, 10, 100)"
   ]
  },
  {
   "cell_type": "markdown",
   "id": "a437df10",
   "metadata": {},
   "source": [
    "Was unable to run the algorithm for Barker Method due to it being too slow on my machine."
   ]
  },
  {
   "cell_type": "markdown",
   "id": "7779e91b",
   "metadata": {},
   "source": [
    "Referred to the implementation [here](https://github.com/dvats/portkey/blob/master/R/portkey.R)"
   ]
  }
 ],
 "metadata": {
  "kernelspec": {
   "display_name": "Julia 1.7.2",
   "language": "julia",
   "name": "julia-1.7"
  },
  "language_info": {
   "file_extension": ".jl",
   "mimetype": "application/julia",
   "name": "julia",
   "version": "1.7.3"
  }
 },
 "nbformat": 4,
 "nbformat_minor": 5
}
